{
 "cells": [
  {
   "cell_type": "code",
   "execution_count": null,
   "metadata": {},
   "outputs": [],
   "source": []
  },
  {
   "cell_type": "code",
   "execution_count": 2,
   "metadata": {},
   "outputs": [],
   "source": [
    "# imports\n",
    "%matplotlib inline\n",
    "import numpy as np\n",
    "import matplotlib.pyplot as plt\n",
    "import time"
   ]
  },
  {
   "cell_type": "markdown",
   "metadata": {},
   "source": [
    "# #1 A Discrete Convolution Program (5 pts)"
   ]
  },
  {
   "cell_type": "markdown",
   "metadata": {},
   "source": [
    "Write a discrete convolution function `myConv` that convolves two arrays {$f_i, i = 0, \\dots , N_f-1$}\n",
    "and {$w_j, j = 0, \\dots , N_w-1$} to obtain an output time series {$g_n$}. For simplicity, assume a fixed sampling interval $\\Delta = 1$, and further, that $f$ and $w$ are $0$ outside of their sampled regions. \n",
    "\n",
    " 1. How long is {$g_n$}? In other words, how many non-zero points can it have? Justify your answer. \n",
    " 2. Please copy and paste your function `g = myConv(f, w)` to the PDF report.\n",
    " 3. Provide a test to convince yourself (and me) that your function agrees with `numpy.convolve`. For example, generate two random timeseries $f$, $w$ with $N_f=75$, $N_w=150$, drawing each element from $U[0,1]$, and plot the difference between your function's output and numpy's. Include the code for your test in the PDF report.\n",
    " 4. Compare the speed of your `myConv` function to the NumPy function. Provide a plot of the comparison, and include your python code in the PDF report. Is your function faster or slower than the NumPy function? Can you suggest why that is the case?\n",
    "\n",
    "_Hint_: For the speed test part, make up your own $f_i$ and $w_j$ time series, and for simplicity, study the cases\n",
    "of $N_f = N_w = 10, 100, 1000, 10000$. To accurately time each computation of the convolution function, import the\n",
    "time module and place calls to `time.time` around your code:\n",
    "```\n",
    "import time\n",
    "t1 = time.time()\n",
    "g = myConv(f, w)\n",
    "t2 = time.time()\n",
    "print(t2-t1)\n",
    "```\n",
    "Alternatively, use the `timeit` module:\n",
    "```\n",
    "import timeit\n",
    "print(timeit.timeit('g = myConv(f, w)', number=10000))\n",
    "```"
   ]
  },
  {
   "cell_type": "markdown",
   "metadata": {},
   "source": [
    "# #1 Solution\n",
    "\n",
    "* collaborators  Zed zhou-liu-nauman \n",
    "* solution inspired by https://www.youtube.com/watch?v=KuXjwB4LzSA&t=219s&ab_channel=3Blue1Brown around 5:32\n",
    "\n",
    "\n",
    "## Idea:\n",
    "We can think of the convolution as the sum of every diagonal (from left to upper right) across the matrix made\n",
    "by f[i] *w[j] elements\n",
    "\n",
    "This means practicaly, we assign m = i +j in our nested for-loop, and do a += to add to the sum (starting each con[m] from 0).\n",
    "\n",
    "\n",
    "1. How long is {$g_n$}? In other words, how many non-zero points can it have? Justify your answer.\n",
    "answer: {$g_n$} is len(f) + len(w) -1 long, "
   ]
  },
  {
   "cell_type": "code",
   "execution_count": 3,
   "metadata": {},
   "outputs": [],
   "source": [
    "def myConv(f, w, dt=1,):\n",
    "    '''Performs a discrete convolution on arrays f, and w. \n",
    "    \n",
    "    Args: \n",
    "        f: array-like, float\n",
    "        \n",
    "        w: array-like, float\n",
    "        \n",
    "    Optional:\n",
    "        dt: default =1\n",
    "            time spacing\n",
    "    \n",
    "    returns:\n",
    "        conv: array like, float, size of len(f) + len(w) -1\n",
    "        '''\n",
    "    conv = np.zeros(len(f) + len(w) -1)\n",
    "    for i in range(len(f)):\n",
    "        for j in range(len(w)):\n",
    "            m = i + j\n",
    "            conv[m] += (w[j] *f[i] * dt) \n",
    "    \n",
    "    return conv "
   ]
  },
  {
   "cell_type": "code",
   "execution_count": 8,
   "metadata": {
    "scrolled": false
   },
   "outputs": [
    {
     "data": {
      "text/plain": [
       "Text(250, 1e-14, 'The Y axis scale is on the order of 1e-14\\n this is close to the floating point accuracy')"
      ]
     },
     "execution_count": 8,
     "metadata": {},
     "output_type": "execute_result"
    },
    {
     "data": {
      "image/png": "[encoded data removed]",
      "text/plain": [
       "<Figure size 432x288 with 1 Axes>"
      ]
     },
     "metadata": {
      "needs_background": "light"
     },
     "output_type": "display_data"
    }
   ],
   "source": [
    "np.random.seed(42)\n",
    "f_size = 75\n",
    "w_size = 150\n",
    "f = np.random.rand(f_size)\n",
    "w = np.random.rand(w_size)\n",
    "\n",
    "g = myConv(f,w)\n",
    "g2 = np.convolve(f,w)\n",
    "\n",
    "plt.title(\"Residual \\n  myConv vs NumPy\", size=15)\n",
    "plt.plot(g-g2, '.', )\n",
    "plt.xlabel('Sample N (in convolution)', size=12)\n",
    "plt.ylabel('Difference', size=12)\n",
    "plt.text(250, 1e-14, s='The Y axis scale is on the order of 1e-14\\n this is close to the floating point accuracy')"
   ]
  },
  {
   "cell_type": "code",
   "execution_count": 59,
   "metadata": {},
   "outputs": [],
   "source": [
    "# timing test cell\n",
    "np.random.seed(42)\n",
    "f_size = 75\n",
    "w_size = 150\n",
    "f = np.random.rand(f_size)\n",
    "w = np.random.rand(w_size)\n",
    "\n",
    "t1 = time.time()\n",
    "g = myConv(f,w)\n",
    "t2 = time.time()\n",
    "\n",
    "n_sizes = np.logspace(0, 4, 5,)\n",
    "t_arr1 = np.zeros(len(n_sizes)) # myConv\n",
    "t_arr2 = np.zeros(len(n_sizes)) # np\n",
    "\n",
    "for i in range(len(n_sizes)):\n",
    "    f_size = int(n_sizes[i])\n",
    "    w_size = f_size\n",
    "    \n",
    "    f = np.random.rand(f_size)\n",
    "    w = np.random.rand(w_size)\n",
    "    \n",
    "    t1 = time.time()\n",
    "    g = myConv(f,w)\n",
    "    t2 = time.time()\n",
    "    t_arr1[i] = t2 - t1\n",
    "    \n",
    "    t1 = time.time()\n",
    "    g = np.convolve(f,w)\n",
    "    t2 = time.time()\n",
    "    t_arr2[i] = t2 - t1\n",
    "    "
   ]
  },
  {
   "cell_type": "code",
   "execution_count": 54,
   "metadata": {},
   "outputs": [
    {
     "data": {
      "image/png": "[encoded data removed]",
      "text/plain": [
       "<Figure size 432x288 with 1 Axes>"
      ]
     },
     "metadata": {
      "needs_background": "light"
     },
     "output_type": "display_data"
    },
    {
     "data": {
      "image/png": "[encoded data removed]",
      "text/plain": [
       "<Figure size 432x288 with 1 Axes>"
      ]
     },
     "metadata": {
      "needs_background": "light"
     },
     "output_type": "display_data"
    }
   ],
   "source": [
    "plt.scatter(n_sizes, t_arr1, label='myConv')\n",
    "plt.scatter(n_sizes, t_arr2, label='NumPy', marker='x')\n",
    "plt.legend(fontsize=12)\n",
    "plt.title('Timing Test', size=15)\n",
    "plt.xlabel('Trial Size (Length of f, w)', size=15)\n",
    "plt.xscale('log')\n",
    "plt.ylabel('Time For Convolution(s)', size=15)\n",
    "plt.show()\n",
    "\n",
    "#plt.scatter(n_sizes, t_arr1, label='myConv')\n",
    "plt.scatter(n_sizes, t_arr1 - t_arr2, label='myConv - NumPy', marker='x')\n",
    "plt.legend(fontsize=12)\n",
    "plt.title('Time Difference', size=15)\n",
    "plt.xlabel('Trial Size (Length of f, w)', size=15)\n",
    "plt.xscale('log')\n",
    "plt.ylabel('Time Differnce', size=15)\n",
    "plt.yscale('log')\n",
    "#plt.ylim(0, 1)"
   ]
  },
  {
   "cell_type": "code",
   "execution_count": 58,
   "metadata": {},
   "outputs": [
    {
     "data": {
      "text/plain": [
       "array([-5.24520874e-06, -8.70466232e-04,  1.18184090e-02,  6.35843992e-01,\n",
       "        6.18975568e+01])"
      ]
     },
     "execution_count": 58,
     "metadata": {},
     "output_type": "execute_result"
    }
   ],
   "source": [
    "(t_arr1 - t_arr2)"
   ]
  },
  {
   "cell_type": "markdown",
   "metadata": {},
   "source": [
    "The Numpy method is always faster. For \"short\" timeseries convolutions, the two methods are comparable in speed. For longer timeseries, the Numpy Method has a substaintial advantage.\n",
    "\n",
    "This is likely due to the Numpy method using a more sophistated method then a double forloop. C++ or Fortrain stuff etc. \n",
    "\n",
    "while it isn't asked, the scipy method is much faster then the numpy method"
   ]
  },
  {
   "cell_type": "markdown",
   "metadata": {},
   "source": [
    "# Simple Physical System: RL Circuit Response (7 pts)"
   ]
  },
  {
   "cell_type": "markdown",
   "metadata": {},
   "source": [
    "Consider a simple physical system consisting of a resistor (with resistance `R`) and an inductor (with inductance `L`) in series.  We apply an input voltage $a(t)$ across the pair in series, and measure the output\n",
    "voltage $b(t)$ across the inductor alone. For this linear system,\n",
    "\n",
    " 1. Show analytically that its step response (i.e., the $b(t)$ we obtain when the input voltage $a(t) = H(t)$,\n",
    "    the Heaviside function) is given by\n",
    "\n",
    "    $$ S(t) = e^{-Rt/L} H(t), $$\n",
    "\n",
    "    and its impulse response (i.e., the output voltage $b(t)$ when $a(t) = \\delta(t)$) is given by\n",
    "\n",
    "    $$ R(t) = \\delta(t) - \\frac{R}{L} e^{-Rt/L} H(t). $$\n",
    "\n",
    "    _Hint_: Construct and solve the ODE relating the voltages under consideration. Consider the two $b(t)$ choices to derive $S(t)$ and $R(t)$. Formulas $\\frac{d}{dt} H(t) = \\delta(t)$ and $\\delta(t) f(t) = \\delta(t) f(0)$ may help.\n",
    " 2. Discretize the impulse response $R(t)$ function, realizing that $H(t)$ should be discretized as\n",
    "\n",
    "    $$H = [0.5, 1, 1, \\dots],$$\n",
    "\n",
    "    and $\\delta(t)$ should be discretized as\n",
    "\n",
    "    $$D = [1/dt, 0, 0, \\dots].$$\n",
    "\n",
    "    Take advantage of your `myConv` function, or the NumPy built-in function `convolve`, and write\n",
    "    your own Python function `V_out = RLresponse(R,L,V_in,dt)` to take an input series $V_{in}$ sampled\n",
    "    at $\\Delta = dt$, and calculate the output series $V_{out}$ sampled by the same $dt$. Please paste your\n",
    "    Python function here (if you are not using a jupyter notebook). (Hint: here $\\Delta$ may not be 1, so remember to build the multiplication of\n",
    "    $\\Delta$ into your convolution function.)\n",
    " 3. Using $R = 1000 \\Omega$, $L = 3 H$, and sampling period $dt = 0.25 \\text{ ms}$, test your RL-response\n",
    "    function with {$H_n$} series (discretized $H(t)$) as input, and plot the output time series (as circles) on\n",
    "    top of the theoretical curve $S(t)$ given by part 1 (as a solid line). Repeat this for {$D_n$} (discretized\n",
    "    $\\delta(t)$) and $R(t)$. Make the time range of the plots 0 to at least 25 ms. Please list your Python\n",
    "    code here (if you are not using a jupyter notebook)."
   ]
  },
  {
   "cell_type": "markdown",
   "metadata": {},
   "source": [
    "# Answer\n",
    "\n",
    "## 1. lets construct the ODE. Recall from our childhood that a RL circuit obeys the following ODE:\n",
    "\n",
    "$$V = RI + L \\frac{dI}{dt}$$\n",
    "\n",
    "where $V$ is the input voltage (aka $a(t)$), $I$ is the current through the circuit, $R$ and $L$ is the resistance and inductance. \n",
    "\n",
    "This is typically solved by rewriting into the norm form and using an integraiting factor:\n",
    "$$\\frac{dI}{dt} + \\frac{R}{L}I = \\frac{V}{L}$$\n",
    "\n",
    "with the integrating factor:\n",
    "$$ e^{\\int{\\frac{R}{l}dt}} =e^{{\\frac{R}{l}}t} $$\n",
    "\n",
    "Moving into the ODE, this becomes:\n",
    "$$e^{{\\frac{R}{l}}t}\\frac{dI}{dt} + e^{{\\frac{R}{l}}t}\\frac{R}{L}I = e^{{\\frac{R}{l}}t}\\frac{V}{L}$$\n",
    "\n",
    "Arrow\n",
    "\n",
    "$$I e^{\\frac{Rt}{L}} = \\frac{1}{L} \\int{Ve^{\\frac{Rt}{L}}dt}$$\n",
    "\n",
    "We identify $V$ as $a(t)$, and $L \\frac{dI}{dt}$ as $b(t)$\n",
    "\n",
    "\n",
    "\n",
    "### 1a  $V = a(t) = H(t)$\n",
    "\n",
    "Recall integral table $\\int H(t)e^{at}dt = \\frac{(e^{at} -1)H(t)}{a}$\n",
    "\n",
    "So in our case we have $a = \\frac{R}{L}$ so the RHS becomes $\\frac{1}{L}\\frac{(e^{\\frac{R}{L}t} -1)H(t)}{\\frac{R}{L}}$\n",
    "\n",
    "The $L$'s cancel:\n",
    "$$I e^{\\frac{Rt}{L}} = \\frac{(e^{\\frac{R}{L}t} -1)H(t)}{R}$$\n",
    "\n",
    "Now we can multiply both sides by L and take a time derivative to get $b(t)$, also move the exp term to the right\n",
    "\n",
    "$$IL e^{\\frac{Rt}{L}} = L\\frac{(e^{\\frac{R}{L}t} -1)H(t)}{R}$$\n",
    "\n",
    "Arrow\n",
    "\n",
    "$$IL  = L\\frac{(1 -e^{\\frac{-Rt}{L}})H(t)}{R}$$\n",
    "\n",
    "$\\frac{d}{dt}$ both sides\n",
    "\n",
    "$$b(t) = \\frac{L}{R} \\delta{t} - \\frac{L}{R} \\delta{t}e^{\\frac{-Rt}{L}} - H(t)e^{\\frac{Rt}{L}}$$\n",
    "\n",
    "arrow (the first two terms on the RHS cancel )\n",
    "\n",
    "$$s(t) = b(t) = - H(t)e^{\\frac{Rt}{L}}$$ \n",
    "\n",
    "this matches what we were given in the question!\n",
    "\n",
    "\n",
    "### 1b $V = a(t) = \\delta(t) $\n",
    "\n",
    "Recall:\n",
    "$$I e^{\\frac{Rt}{L}} = \\frac{1}{L} \\int{Ve^{\\frac{Rt}{L}}dt}$$\n",
    "\n",
    "We identify $V$ as $a(t)$, and $L \\frac{dI}{dt}$ as $b(t)$\n",
    "\n",
    "In our case the RHS is a trivial integral $LHS = 1$, we again multiply by L and move the exp over and take a time derivative\n",
    "\n",
    "we get:\n",
    "\n",
    "# Coding bits below!\n",
    "$$ R(t) = \\delta(t) - \\frac{R}{L} e^{-Rt/L} H(t). $$"
   ]
  },
  {
   "cell_type": "code",
   "execution_count": 153,
   "metadata": {},
   "outputs": [],
   "source": [
    "def RLresponse(R,L,V_in,dt):\n",
    "    '''Returns the RLresponse'''\n",
    "    \n",
    "    H = np.ones(len(V_in))\n",
    "    H[0] = 0.5\n",
    "    \n",
    "    dirac = np.zeros(len(V_in))\n",
    "    dirac[0] = 1/dt\n",
    "    \n",
    "    t = np.arange(0, len(V_in)*dt, dt)\n",
    "    \n",
    "    resp = dirac - (R/L) * np.exp(-R*t/L) * H\n",
    "    \n",
    "    R_t = -1* np.convolve(V_in, resp, mode='same') * dt # v out\n",
    "    # this doesn't account for boundry effects, we do that later\n",
    "    \n",
    "    return R_t"
   ]
  },
  {
   "cell_type": "code",
   "execution_count": 160,
   "metadata": {},
   "outputs": [],
   "source": [
    "# 25 ms time range\n",
    "# 𝑅=1000Ω\n",
    "#  𝐿=3𝐻\n",
    "# initialize variables\n",
    "R = 1000 #Ω\n",
    "L = 3 #H\n",
    "t_end = 50 / 1000 # ms\n",
    "dt = ( 25 / 100000 ) # ms\n",
    "t = np.arange(0, t_end, dt)\n",
    "\n",
    "\n",
    "# analytical dirac\n",
    "dirac = np.zeros(len(t))\n",
    "dirac[0] = 1/dt\n",
    "H = np.ones(len(t))\n",
    "H[0] = 0.5\n",
    "R_t = dirac - (R/L) * np.exp(-R*t/L) * H\n",
    "\n",
    "\n",
    "# numerical dirac\n",
    "V_in = dirac\n",
    "dirac_t = RLresponse(R,L,V_in,dt)\n",
    "\n",
    "\n",
    "# numerical heavy side\n",
    "V_in = H\n",
    "heavy_side = RLresponse(R,L,V_in,dt)\n",
    "\n",
    "\n",
    "# analytical heavy side\n",
    "# 𝑆(𝑡)=𝑒−𝑅𝑡/𝐿𝐻(𝑡)\n",
    "s_t  = np.exp(-R*t/L) * H"
   ]
  },
  {
   "cell_type": "code",
   "execution_count": 161,
   "metadata": {},
   "outputs": [
    {
     "data": {
      "text/plain": [
       "(0.0, 0.025)"
      ]
     },
     "execution_count": 161,
     "metadata": {},
     "output_type": "execute_result"
    },
    {
     "data": {
      "image/png": "[encoded data removed]",
      "text/plain": [
       "<Figure size 432x288 with 1 Axes>"
      ]
     },
     "metadata": {
      "needs_background": "light"
     },
     "output_type": "display_data"
    }
   ],
   "source": [
    "#plotting code\n",
    "plt.scatter(t - np.mean(t), heavy_side, marker='o', color='green', label='Numerical')\n",
    "plt.plot(t, s_t, color='k', label='Theory')\n",
    "plt.title('Heavyside\\nRL Circuit Responses', size='15')\n",
    "plt.xlabel('Time (s)', size=15)\n",
    "plt.ylabel('b(t) (V)', size=15)\n",
    "plt.legend(fontsize=12)\n",
    "plt.xlim(0, 0.025)\n"
   ]
  },
  {
   "cell_type": "code",
   "execution_count": 162,
   "metadata": {},
   "outputs": [
    {
     "data": {
      "text/plain": [
       "(0.0, 0.025)"
      ]
     },
     "execution_count": 162,
     "metadata": {},
     "output_type": "execute_result"
    },
    {
     "data": {
      "image/png": "[encoded data removed]",
      "text/plain": [
       "<Figure size 432x288 with 1 Axes>"
      ]
     },
     "metadata": {
      "needs_background": "light"
     },
     "output_type": "display_data"
    }
   ],
   "source": [
    "# plotting code\n",
    "plt.plot(t, R_t, color='k', label='Theory')\n",
    "plt.scatter(t - np.mean(t), dirac_t, marker='o', label='Numerical')\n",
    "plt.title('Impulse\\nRL Circuit Responses', size='15')\n",
    "plt.xlabel('Time (s)', size=15)\n",
    "plt.ylabel('b(t) (v)', size=15)\n",
    "plt.legend(fontsize=12)\n",
    "plt.xlim(0, 0.025)"
   ]
  },
  {
   "cell_type": "markdown",
   "metadata": {},
   "source": [
    "# Convolution of a thermal infrared Spectrum (8 pts)"
   ]
  },
  {
   "cell_type": "markdown",
   "metadata": {},
   "source": [
    "The Tropospheric Emission Spectrometer (TES) is a Fourier transform spectrometer that was launched by NASA on the Aura spacecraft in July 2004. The instrument measures radiation from the atmosphere in the thermal infrared region of the spectrum. The file `TES_spectra.txt` contains TES measurements on 10 July 2010 from the 2B1 filter on TES. In this spectral region, vertical profiles of atmopsheric temprature and water vapour can be retrieved. (The file contains the spectrum as a function of wavenumbers $\\tilde{\\nu} = 1/\\lambda$ in units of cm$^{-1}$). One way of simulating the spectrum that might be measured by a low-resolution version of TES is by convolving the TES high-resolution spectrum with the function $2\\Delta\\sin(2\\pi \\tilde{\\nu}\\Delta)/(2\\pi \\tilde{\\nu}\\Delta)$, where $\\Delta$ is a measure of the spectral resolution.\n",
    "\n",
    "1. Plot the TES spectrum as a function of wavenumber. \n",
    "2. Plot the function $2\\Delta\\sin(2\\pi \\tilde{\\nu}\\Delta)/(2\\pi \\tilde{\\nu}\\Delta)$ over the interval $\\tilde{\\nu}=[-3,3]$, with $\\Delta \\tilde{\\nu} = 0.06$ cm$^{-1}$, for values of $\\Delta = 1$ and $\\Delta =3$.\n",
    "3.\tUse numpy's convolve function to convolve the high-resolution spectrum in the file `TES_Spectra.txt` separately with the two curves in Part 2 (i.e., for $\\Delta = 1$ and $\\Delta = 3$).\n",
    "4.\tFor each of the two cases, plot the original and convolved time series over the wavenumber range $[700,750]$. Comment on the differences in the convolved time series between the two cases.\n",
    "5. Consider convolving the spectrum with the following Gaussian: $g(\\tilde{\\nu}) = \\frac{1}{\\sqrt{\\pi}L} e^{-(\\tilde{\\nu}/L)^2}.$\n",
    "\n",
    "   Plot The Guassian for $L=0.5$ (over the interval $\\tilde{\\nu}=[-3,3]$) and the timeseries of the convolution of the TES spectrum with the Gaussian (over the range [700,750]). Comment on the differences between the this convolved time series and those from Part 4.\n",
    "\n",
    "__Note__\n",
    "\n",
    "* The spectrum in  `TES_Spectra.txt` is given as a text file with two columns: the first column contains the wavenumber of the measurement (in units of cm$^{-1}$) and the second column has the spectral signal (in Watts cm$^{-2}$ sr$^{-1}$/cm$^{-1}$).\n",
    "* Use `mode='same'` when calling numpy convolve to truncate the convolution to the max of the supplied arrays (i.e. length of the high-resolution timeseries in our case). This is convenient, since we want to compare the convolution output to the original timeseries.  \n",
    "* As a check for Parts 4 and 5, ensure that your convolved timeseries is aligned with (or \"overlaps\") the original timeseries."
   ]
  },
  {
   "cell_type": "code",
   "execution_count": 91,
   "metadata": {},
   "outputs": [],
   "source": []
  },
  {
   "cell_type": "code",
   "execution_count": null,
   "metadata": {},
   "outputs": [],
   "source": []
  },
  {
   "cell_type": "code",
   "execution_count": null,
   "metadata": {},
   "outputs": [],
   "source": []
  },
  {
   "cell_type": "code",
   "execution_count": 89,
   "metadata": {},
   "outputs": [],
   "source": []
  },
  {
   "cell_type": "code",
   "execution_count": null,
   "metadata": {},
   "outputs": [],
   "source": []
  },
  {
   "cell_type": "code",
   "execution_count": 93,
   "metadata": {},
   "outputs": [
    {
     "data": {
      "text/plain": [
       "5100.0"
      ]
     },
     "execution_count": 93,
     "metadata": {},
     "output_type": "execute_result"
    }
   ],
   "source": []
  },
  {
   "cell_type": "code",
   "execution_count": 94,
   "metadata": {},
   "outputs": [],
   "source": [
    "# send me $100 on US ard\n",
    "# facetime opa tomorrow"
   ]
  },
  {
   "cell_type": "code",
   "execution_count": null,
   "metadata": {},
   "outputs": [],
   "source": [
    "# investments for next 10 years\n",
    "# ENPH, QQQ, lets add a few bonds?\n",
    "# want a additonal ETF\n",
    "# want a high paying(?) job for summer\n",
    "# "
   ]
  }
 ],
 "metadata": {
  "kernelspec": {
   "display_name": "Python 3 (ipykernel)",
   "language": "python",
   "name": "python3"
  },
  "language_info": {
   "codemirror_mode": {
    "name": "ipython",
    "version": 3
   },
   "file_extension": ".py",
   "mimetype": "text/x-python",
   "name": "python",
   "nbconvert_exporter": "python",
   "pygments_lexer": "ipython3",
   "version": "3.9.12"
  }
 },
 "nbformat": 4,
 "nbformat_minor": 1
}
